{
 "cells": [
  {
   "cell_type": "code",
   "execution_count": 1,
   "metadata": {
    "collapsed": true
   },
   "outputs": [],
   "source": [
    "%matplotlib inline\n",
    "import matplotlib.pyplot as plt\n",
    "import numpy as np"
   ]
  },
  {
   "cell_type": "markdown",
   "metadata": {},
   "source": [
    "Single-Level Breit-Wigner Resonace Demonstration\n",
    "================================================"
   ]
  },
  {
   "cell_type": "markdown",
   "metadata": {},
   "source": [
    "First define all of the needed parameters and constants, being careful with units."
   ]
  },
  {
   "cell_type": "code",
   "execution_count": 19,
   "metadata": {
    "collapsed": true
   },
   "outputs": [],
   "source": [
    "A = 238                             # ratio of nuclear mass to neutron mass\n",
    "a = (0.123*A**(1.0/3.0) + 0.08)*1e-12   # hard-sphere radius of nucleu, cm\n",
    "I = 0                               # target spin, unitless\n",
    "J = 0.5                             # compound nucleus spin, unitless\n",
    "E_i = 80.749                        # location of resonance, eV\n",
    "Gamma_i = 0.024865                  # total resonance width, eV\n",
    "Gamma_ni = 0.001865                 # neutron partial width, eV\n",
    "Gamma_gi = 0.0230                   # radiative capture partial width, eV\n",
    "c = 2.99792458e10                   # speed of light in vacuum, cm/s\n",
    "m = 939.57e6/c**2                   # mass of neutron, eV/c^2 = eV s^2/cm^2\n",
    "hbar = 4.135667662e-15/(2.0*np.pi)  # reduced plank's constant, eV s\n",
    "gJ = (2*J+1)/(2*(2*I+1))            # statistical spin factor, unitless"
   ]
  },
  {
   "cell_type": "markdown",
   "metadata": {},
   "source": [
    "Cross Section Calculation\n",
    "-------------------------"
   ]
  },
  {
   "cell_type": "markdown",
   "metadata": {},
   "source": [
    "First, create a function to calculate the neutron wavelength as a function of energy."
   ]
  },
  {
   "cell_type": "code",
   "execution_count": 21,
   "metadata": {
    "collapsed": false
   },
   "outputs": [],
   "source": [
    "def wavelength(E) : \n",
    "    return hbar/np.sqrt(2.0*E*A*m/(A+1)) # eV s/sqrt(eV eV s^2 / cm^2) = cm"
   ]
  },
  {
   "cell_type": "markdown",
   "metadata": {},
   "source": [
    "Now create functions to calculate \\sigma_0 and the potential cross section as functions of energy."
   ]
  },
  {
   "cell_type": "code",
   "execution_count": 22,
   "metadata": {
    "collapsed": false
   },
   "outputs": [],
   "source": [
    "def sigma0(E) :\n",
    "    return 4.0*np.pi*wavelength(E)**2*gJ*Gamma_ni/Gamma_i  # cm^2"
   ]
  },
  {
   "cell_type": "code",
   "execution_count": 23,
   "metadata": {
    "collapsed": true
   },
   "outputs": [],
   "source": [
    "def sigmap(E) :\n",
    "    lmbda = wavelength(E)\n",
    "    return 4.0*np.pi*lmbda**2*np.sin(a/lmbda)**2"
   ]
  },
  {
   "cell_type": "markdown",
   "metadata": {},
   "source": [
    "Now we everything in place to calculate the the capture and elastic scattering cross sections.  Rather than doing the actual calculation here, I am going to create two functions that will do the calculation as a function of energy."
   ]
  },
  {
   "cell_type": "code",
   "execution_count": 45,
   "metadata": {
    "collapsed": true
   },
   "outputs": [],
   "source": [
    "def sigma_g(E) :\n",
    "    return sigma0(E)*Gamma_gi*Gamma_i/(Gamma_i**2 + 4.0*(E-E_i)**2)"
   ]
  },
  {
   "cell_type": "code",
   "execution_count": 46,
   "metadata": {
    "collapsed": false
   },
   "outputs": [],
   "source": [
    "def sigma_e(E) :\n",
    "    phi0 = a/wavelength(E)\n",
    "    return sigmap(E)**2 + sigma0(E)*(2/Gamma_i*(E-E_i)*np.sin(2.0*phi0) + Gamma_ni/Gamma_i - 2.0*np.sin(phi0)**2)*Gamma_i**2/(Gamma_i**2 + 4.0*(E-E_i)**2)"
   ]
  },
  {
   "cell_type": "markdown",
   "metadata": {},
   "source": [
    "Calculate and plot:"
   ]
  },
  {
   "cell_type": "code",
   "execution_count": 35,
   "metadata": {
    "collapsed": false
   },
   "outputs": [
    {
     "data": {
      "text/plain": [
       "<matplotlib.legend.Legend at 0x1072eff90>"
      ]
     },
     "execution_count": 35,
     "metadata": {},
     "output_type": "execute_result"
    },
    {
     "data": {
      "image/png": "[encoded data removed]",
      "text/plain": [
       "<matplotlib.figure.Figure at 0x107160e90>"
      ]
     },
     "metadata": {},
     "output_type": "display_data"
    }
   ],
   "source": [
    "E = np.linspace(80.0,81.8,1000)\n",
    "sigmae = sigma_e(E)*1.0e24  # elastic cross section, barns\n",
    "sigmag = sigma_g(E)*1.0e24  # capture cross section, barns\n",
    "sigmat = sigmag+sigmae      # total cross section, barns\n",
    "\n",
    "elastic, = plt.plot(E,sigmae)\n",
    "capture, = plt.plot(E,sigmag)\n",
    "total,   = plt.plot(E,sigmat)\n",
    "plt.legend([elastic,capture,total],[\"Elastic\",\"Capture\",\"Total\"])"
   ]
  },
  {
   "cell_type": "markdown",
   "metadata": {},
   "source": [
    "Resonance Absorption\n",
    "--------------------"
   ]
  },
  {
   "cell_type": "markdown",
   "metadata": {},
   "source": [
    "Let's look at this resonances effect on the flux spectrum.  For neutrons to be slowing down past the resonance, we need a moderating material.  Let's use hydrogen and calculate its potential cross section using the hard-sphere formula for nuclear radius.  I will also define the ratio of moderator number density to absorber density as 115."
   ]
  },
  {
   "cell_type": "code",
   "execution_count": 36,
   "metadata": {
    "collapsed": false
   },
   "outputs": [],
   "source": [
    "sigmaSM = 4.0*np.pi*(0.123 + 0.08)**2   # b\n",
    "NMtoNR = 115.0"
   ]
  },
  {
   "cell_type": "markdown",
   "metadata": {},
   "source": [
    "Now use the narrow and wide resonance approximations to estimate the the spectrum in and around the resonance."
   ]
  },
  {
   "cell_type": "code",
   "execution_count": 56,
   "metadata": {
    "collapsed": false
   },
   "outputs": [],
   "source": [
    "E = np.linspace(79.0,83.0,1000)\n",
    "sigmaSRes = sigma_e(E)*1.0e24    # elastic cross section, barns\n",
    "sigmaARes = sigma_g(E)*1.0e24    # capture cross section, barns\n",
    "sigmaTRes = sigmaARes+sigmaSRes  # total cross section, barns\n",
    "\n",
    "phi_NR = (NMtoNR*sigmaSM + sigmap(E))/((sigmaTRes + NMtoNR*sigmaSM)*E)\n",
    "phi_WR = NMtoNR*sigmaSM/((sigmaARes + NMtoNR*sigmaSM)*E)"
   ]
  },
  {
   "cell_type": "code",
   "execution_count": 58,
   "metadata": {
    "collapsed": false
   },
   "outputs": [
    {
     "data": {
      "text/plain": [
       "<matplotlib.legend.Legend at 0x109f026d0>"
      ]
     },
     "execution_count": 58,
     "metadata": {},
     "output_type": "execute_result"
    },
    {
     "data": {
      "image/png": "[encoded data removed]",
      "text/plain": [
       "<matplotlib.figure.Figure at 0x109d3ac90>"
      ]
     },
     "metadata": {},
     "output_type": "display_data"
    }
   ],
   "source": [
    "fig, ax1 = plt.subplots()\n",
    "capture, = ax1.plot(E,sigmaARes,\":r\")\n",
    "ax1.set_xlabel(\"Energy, eV\")\n",
    "ax1.set_ylabel(\"Cross Section, b\")\n",
    "\n",
    "ax2 = ax1.twinx()\n",
    "nrSpec,wrSpec = ax2.plot(E,phi_NR, E,phi_WR)\n",
    "ax2.set_ylabel('Flux')\n",
    "\n",
    "plt.legend([capture,nrSpec,wrSpec],[\"Capture\",\"NR\",\"WR\"])"
   ]
  },
  {
   "cell_type": "code",
   "execution_count": null,
   "metadata": {
    "collapsed": true
   },
   "outputs": [],
   "source": []
  }
 ],
 "metadata": {
  "kernelspec": {
   "display_name": "Python 2",
   "language": "python",
   "name": "python2"
  },
  "language_info": {
   "codemirror_mode": {
    "name": "ipython",
    "version": 2
   },
   "file_extension": ".py",
   "mimetype": "text/x-python",
   "name": "python",
   "nbconvert_exporter": "python",
   "pygments_lexer": "ipython2",
   "version": "2.7.11"
  }
 },
 "nbformat": 4,
 "nbformat_minor": 0
}

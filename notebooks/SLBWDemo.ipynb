{
 "cells": [
  {
   "cell_type": "code",
   "execution_count": 45,
   "metadata": {
    "collapsed": true
   },
   "outputs": [],
   "source": [
    "%matplotlib inline\n",
    "import matplotlib.pyplot as plt\n",
    "import numpy as np"
   ]
  },
  {
   "cell_type": "code",
   "execution_count": 111,
   "metadata": {
    "collapsed": true
   },
   "outputs": [],
   "source": [
    "A = 238\n",
    "a = (0.123*A**(1.0/3.0) + 0.08)*1e-14   # m\n",
    "I = 0\n",
    "J = 0.5\n",
    "E_i = 80.749  # eV\n",
    "Gamma_i = 24.865\n",
    "Gamma_ni = 1.865\n",
    "Gamma_gi = 23.0\n",
    "c = 2.99792458e8  # m/s\n",
    "m = 939.57e6/c**2 # eV/c^2 = eV s^2/m^2\n",
    "hbar = 4.135667662e-15/(2.0*np.pi)  # eV s"
   ]
  },
  {
   "cell_type": "code",
   "execution_count": 112,
   "metadata": {
    "collapsed": true
   },
   "outputs": [],
   "source": [
    "gJ = (2*J+1)/(2*(2*I+1))"
   ]
  },
  {
   "cell_type": "code",
   "execution_count": 113,
   "metadata": {
    "collapsed": false
   },
   "outputs": [],
   "source": [
    "def wavelength(E) : \n",
    "    return hbar/np.sqrt(2.0*E*A*m/(A+1)) # eV s/sqrt(eV eV s^2 / m^2) = m"
   ]
  },
  {
   "cell_type": "code",
   "execution_count": 114,
   "metadata": {
    "collapsed": false
   },
   "outputs": [],
   "source": [
    "def sigma0(E) :\n",
    "    return 4.0*np.pi*wavelength(E)**2*gJ*Gamma_ni/Gamma_i  # m^2"
   ]
  },
  {
   "cell_type": "code",
   "execution_count": 115,
   "metadata": {
    "collapsed": true
   },
   "outputs": [],
   "source": [
    "def sigmap(E) :\n",
    "    lmbda = wavelength(E)\n",
    "    return 4.0*np.pi*lmbda**2*np.sin(a/lmbda)**2"
   ]
  },
  {
   "cell_type": "code",
   "execution_count": 116,
   "metadata": {
    "collapsed": false
   },
   "outputs": [],
   "source": [
    "def sigma_g(E) :\n",
    "    return sigma0(E)*Gamma_gi*Gamma_i/(Gamma_i**2 + 4.0*(E-E_i)**2)\n",
    "def sigma_e(E) :\n",
    "    phi0 = a/wavelength(E)\n",
    "    return sigmap(E)**2 + sigma0(E)*(2/Gamma_i*(E-E_i)*np.sin(2.0*phi0) + Gamma_ni/Gamma_i - 2.0*np.sin(phi0)**2)*Gamma_i**2/(Gamma_i**2 + 4.0*(E-E_i)**2)"
   ]
  },
  {
   "cell_type": "code",
   "execution_count": 128,
   "metadata": {
    "collapsed": false
   },
   "outputs": [
    {
     "data": {
      "text/plain": [
       "<matplotlib.legend.Legend at 0x11278ee10>"
      ]
     },
     "execution_count": 128,
     "metadata": {},
     "output_type": "execute_result"
    },
    {
     "data": {
      "image/png": "[encoded data removed]",
      "text/plain": [
       "<matplotlib.figure.Figure at 0x11229f810>"
      ]
     },
     "metadata": {},
     "output_type": "display_data"
    }
   ],
   "source": [
    "E = np.linspace(10,200,1000)\n",
    "sigmae = sigma_e(E)\n",
    "sigmag = sigma_g(E)\n",
    "sigmat = sigmag+sigmae\n",
    "elastic, = plt.plot(E,sigmae)\n",
    "capture, = plt.plot(E,sigmag)\n",
    "total,   = plt.plot(E,sigmat)\n",
    "plt.legend([elastic,capture,total],[\"Elastic\",\"Capture\",\"Total\"])"
   ]
  },
  {
   "cell_type": "code",
   "execution_count": null,
   "metadata": {
    "collapsed": true
   },
   "outputs": [],
   "source": []
  }
 ],
 "metadata": {
  "kernelspec": {
   "display_name": "Python 2",
   "language": "python",
   "name": "python2"
  },
  "language_info": {
   "codemirror_mode": {
    "name": "ipython",
    "version": 2
   },
   "file_extension": ".py",
   "mimetype": "text/x-python",
   "name": "python",
   "nbconvert_exporter": "python",
   "pygments_lexer": "ipython2",
   "version": "2.7.11"
  }
 },
 "nbformat": 4,
 "nbformat_minor": 0
}

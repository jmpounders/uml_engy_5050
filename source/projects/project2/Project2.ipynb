{
 "cells": [
  {
   "cell_type": "code",
   "execution_count": 1,
   "metadata": {
    "collapsed": false
   },
   "outputs": [],
   "source": [
    "%matplotlib inline\n",
    "from proj import *\n",
    "import numpy as np\n",
    "import matplotlib.pyplot as plt"
   ]
  },
  {
   "cell_type": "code",
   "execution_count": 8,
   "metadata": {
    "collapsed": false
   },
   "outputs": [],
   "source": [
    "solnMesh = Mesh(10, \n",
    "                np.linspace(0.0,25,11), \n",
    "                [1,1,1,1,1,1,1,1,1,1],\n",
    "                [2,1])\n",
    "for i in range(4) :\n",
    "    solnMesh = refineMesh(solnMesh);"
   ]
  },
  {
   "cell_type": "code",
   "execution_count": 9,
   "metadata": {
    "collapsed": true
   },
   "outputs": [],
   "source": [
    "xs = getXS()"
   ]
  },
  {
   "cell_type": "code",
   "execution_count": 10,
   "metadata": {
    "collapsed": true
   },
   "outputs": [],
   "source": [
    "def sweep(solnMesh, xs, q, N, g) : \n",
    "    # Get quadrature\n",
    "    [mu,w] = np.polynomial.legendre.leggauss(N)\n",
    "    \n",
    "    # Initialize angular flux\n",
    "    psi = np.zeros([solnMesh.nX,N])\n",
    "    \n",
    "    # Sweep each direction\n",
    "    for m in range(N) :\n",
    "        if mu[m] > 0.0 :\n",
    "            psiInc = 0.0\n",
    "            for i in range(solnMesh.nX) :\n",
    "                h = solnMesh.x[i+1]-solnMesh.x[i]\n",
    "                sigma = xs[solnMesh.mat[i]-1].sigTr[g-1]\n",
    "                psi[i,m] = (q[i]*h + 2.0*mu[m]*psiInc)/(sigma*h + 2.0*mu[m])\n",
    "                psiInc = 2.0*psi[i,m] - psiInc\n",
    "        else :\n",
    "            psiInc = 0.0\n",
    "            for i in range(solnMesh.nX-1,-1,-1) :\n",
    "                h = solnMesh.x[i+1]-solnMesh.x[i]\n",
    "                sigma = xs[solnMesh.mat[i]-1].sigTr[g-1]\n",
    "                psi[i,m] = (q[i]*h - 2.0*mu[m]*psiInc)/(sigma*h - 2.0*mu[m])\n",
    "                psiInc = 2.0*psi[i,m] - psiInc\n",
    "                \n",
    "    # Calculate scalar flux\n",
    "    phi = np.zeros(solnMesh.nX)\n",
    "    for i in range(solnMesh.nX) :\n",
    "        for m in range(N) :\n",
    "            phi[i] = phi[i] + w[m]*psi[i,m]\n",
    "            \n",
    "    return phi"
   ]
  },
  {
   "cell_type": "code",
   "execution_count": 11,
   "metadata": {
    "collapsed": false
   },
   "outputs": [],
   "source": [
    "[ flux_s6, k_s6 ] = powerIterationSolve( solnMesh,xs,6,sweep )\n"
   ]
  },
  {
   "cell_type": "code",
   "execution_count": 12,
   "metadata": {
    "collapsed": false
   },
   "outputs": [
    {
     "name": "stdout",
     "output_type": "stream",
     "text": [
      "1.0799015539\n"
     ]
    },
    {
     "data": {
      "text/plain": [
       "<matplotlib.text.Text at 0x108225090>"
      ]
     },
     "execution_count": 12,
     "metadata": {},
     "output_type": "execute_result"
    },
    {
     "data": {
      "image/png": "[encoded data removed]",
      "text/plain": [
       "<matplotlib.figure.Figure at 0x108281490>"
      ]
     },
     "metadata": {},
     "output_type": "display_data"
    }
   ],
   "source": [
    "print k_s6\n",
    "xCell = np.zeros(solnMesh.nX);\n",
    "for i in range(solnMesh.nX) :\n",
    "    xCell[i] = (solnMesh.x[i]+solnMesh.x[i+1])/2.0;\n",
    "\n",
    "plt.plot(xCell,flux_s6)\n",
    "plt.xlabel('z')\n",
    "plt.ylabel('Scalar flux')"
   ]
  },
  {
   "cell_type": "code",
   "execution_count": 8,
   "metadata": {
    "collapsed": false
   },
   "outputs": [
    {
     "data": {
      "text/plain": [
       "array([ 0.04854952,  0.00382973])"
      ]
     },
     "execution_count": 8,
     "metadata": {},
     "output_type": "execute_result"
    }
   ],
   "source": [
    "flux_s6[2]"
   ]
  },
  {
   "cell_type": "code",
   "execution_count": 15,
   "metadata": {
    "collapsed": false
   },
   "outputs": [
    {
     "data": {
      "text/plain": [
       "[9, 8, 7, 6, 5, 4, 3, 2, 1, 0]"
      ]
     },
     "execution_count": 15,
     "metadata": {},
     "output_type": "execute_result"
    }
   ],
   "source": [
    "range(10-1,-1,-1)"
   ]
  },
  {
   "cell_type": "code",
   "execution_count": null,
   "metadata": {
    "collapsed": true
   },
   "outputs": [],
   "source": []
  }
 ],
 "metadata": {
  "kernelspec": {
   "display_name": "Python 2",
   "language": "python",
   "name": "python2"
  },
  "language_info": {
   "codemirror_mode": {
    "name": "ipython",
    "version": 2
   },
   "file_extension": ".py",
   "mimetype": "text/x-python",
   "name": "python",
   "nbconvert_exporter": "python",
   "pygments_lexer": "ipython2",
   "version": "2.7.10"
  }
 },
 "nbformat": 4,
 "nbformat_minor": 0
}

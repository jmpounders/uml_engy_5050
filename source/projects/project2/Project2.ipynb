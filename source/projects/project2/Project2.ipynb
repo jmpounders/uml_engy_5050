{
 "cells": [
  {
   "cell_type": "code",
   "execution_count": 1,
   "metadata": {
    "collapsed": false
   },
   "outputs": [],
   "source": [
    "%matplotlib inline\n",
    "from proj import *\n",
    "import numpy as np\n",
    "import matplotlib.pyplot as plt"
   ]
  },
  {
   "cell_type": "code",
   "execution_count": 3,
   "metadata": {
    "collapsed": true
   },
   "outputs": [],
   "source": [
    "def sweep(solnMesh, xs, q, N, g) : \n",
    "    # Get quadrature\n",
    "    [mu,w] = np.polynomial.legendre.leggauss(N)\n",
    "    \n",
    "    # Initialize angular flux\n",
    "    psi = np.zeros([solnMesh.nX,N])\n",
    "    \n",
    "    # Sweep each direction\n",
    "    for m in range(N) :\n",
    "        if mu[m] > 0.0 :\n",
    "            psiInc = 0.0\n",
    "            for i in range(solnMesh.nX) :\n",
    "                h = solnMesh.x[i+1]-solnMesh.x[i]\n",
    "                sigma = xs[solnMesh.mat[i]-1].sigTr[g-1]\n",
    "                psi[i,m] = (q[i]*h + 2.0*mu[m]*psiInc)/(sigma*h + 2.0*mu[m])\n",
    "                psiInc = 2.0*psi[i,m] - psiInc\n",
    "        else :\n",
    "            psiInc = 0.0\n",
    "            for i in range(solnMesh.nX-1,-1,-1) :\n",
    "                h = solnMesh.x[i+1]-solnMesh.x[i]\n",
    "                sigma = xs[solnMesh.mat[i]-1].sigTr[g-1]\n",
    "                psi[i,m] = (q[i]*h - 2.0*mu[m]*psiInc)/(sigma*h - 2.0*mu[m])\n",
    "                psiInc = 2.0*psi[i,m] - psiInc\n",
    "                \n",
    "    # Calculate scalar flux\n",
    "    phi = np.zeros(solnMesh.nX)\n",
    "    for i in range(solnMesh.nX) :\n",
    "        for m in range(N) :\n",
    "            phi[i] = phi[i] + w[m]*psi[i,m]\n",
    "            \n",
    "    return phi"
   ]
  },
  {
   "cell_type": "code",
   "execution_count": 4,
   "metadata": {
    "collapsed": false
   },
   "outputs": [
    {
     "data": {
      "text/plain": [
       "<matplotlib.text.Text at 0x10a9816d0>"
      ]
     },
     "execution_count": 4,
     "metadata": {},
     "output_type": "execute_result"
    },
    {
     "data": {
      "image/png": "[encoded data removed]",
      "text/plain": [
       "<matplotlib.figure.Figure at 0x10a9b74d0>"
      ]
     },
     "metadata": {},
     "output_type": "display_data"
    }
   ],
   "source": [
    "solnMesh = Mesh(10, \n",
    "                np.linspace(0.0,10,11), \n",
    "                [1,1,1,1,1,1,1,1,1,1],\n",
    "                [2,1])\n",
    "for i in range(4) :\n",
    "    solnMesh = refineMesh(solnMesh);\n",
    "    \n",
    "xs = getXS()\n",
    "\n",
    "q = 0.5*np.ones(solnMesh.nX)\n",
    "\n",
    "# Calculate the scalar flux\n",
    "g = 2\n",
    "phi = sweep(solnMesh,xs,q,6,g)\n",
    "\n",
    "# Plot your results at cell centers\n",
    "xCell = np.zeros(solnMesh.nX);\n",
    "for i in range(solnMesh.nX) :\n",
    "    xCell[i] = (solnMesh.x[i]+solnMesh.x[i+1])/2.0;\n",
    "\n",
    "plt.plot(xCell,phi)\n",
    "plt.xlabel('z')\n",
    "plt.ylabel('Scalar flux')"
   ]
  },
  {
   "cell_type": "code",
   "execution_count": 18,
   "metadata": {
    "collapsed": true
   },
   "outputs": [],
   "source": [
    "solnMesh = Mesh(10,\n",
    "             np.linspace(0.0,25,11),\n",
    "             [1,1,1,1,1,1,1,1,1,1],\n",
    "             [2,1])\n",
    "for i in range(4) :\n",
    "    solnMesh = refineMesh(solnMesh);\n",
    "xs = getXS()\n",
    "[ flux_s6, k_s6 ] = powerIterationSolve( solnMesh,xs,6,sweep )"
   ]
  },
  {
   "cell_type": "code",
   "execution_count": 19,
   "metadata": {
    "collapsed": false
   },
   "outputs": [
    {
     "name": "stdout",
     "output_type": "stream",
     "text": [
      "1.0799015539\n"
     ]
    },
    {
     "data": {
      "text/plain": [
       "<matplotlib.text.Text at 0x10d36d6d0>"
      ]
     },
     "execution_count": 19,
     "metadata": {},
     "output_type": "execute_result"
    },
    {
     "data": {
      "image/png": "[encoded data removed]",
      "text/plain": [
       "<matplotlib.figure.Figure at 0x10a9b9e50>"
      ]
     },
     "metadata": {},
     "output_type": "display_data"
    }
   ],
   "source": [
    "print k_s6\n",
    "xCell = np.zeros(solnMesh.nX);\n",
    "for i in range(solnMesh.nX) :\n",
    "    xCell[i] = (solnMesh.x[i]+solnMesh.x[i+1])/2.0;\n",
    "\n",
    "plt.plot(xCell,flux_s6)\n",
    "plt.xlabel('z')\n",
    "plt.ylabel('Scalar flux')"
   ]
  },
  {
   "cell_type": "code",
   "execution_count": 44,
   "metadata": {
    "collapsed": false
   },
   "outputs": [
    {
     "name": "stdout",
     "output_type": "stream",
     "text": [
      "0.904992609174\n",
      "7.15298212626\n"
     ]
    },
    {
     "data": {
      "text/plain": [
       "<matplotlib.text.Text at 0x10e5799d0>"
      ]
     },
     "execution_count": 44,
     "metadata": {},
     "output_type": "execute_result"
    },
    {
     "data": {
      "image/png": "[encoded data removed]",
      "text/plain": [
       "<matplotlib.figure.Figure at 0x10e2997d0>"
      ]
     },
     "metadata": {},
     "output_type": "display_data"
    }
   ],
   "source": [
    "B = np.pi/25.0\n",
    "D1 = 1.0/(3.0*xs[0].sigTr[0])\n",
    "D2 = 1.0/(3.0*xs[0].sigTr[1])\n",
    "SigmaR1 = xs[0].sigA[0] + xs[0].sigS[1][0]\n",
    "SigmaR2 = xs[0].sigA[1]\n",
    "num = xs[0].nuBar*xs[0].sigF[0]*(D2*B**2 + SigmaR2) + xs[0].sigS[1][0]*xs[0].nuBar*xs[0].sigF[1]\n",
    "denom = (D1*B**2 + SigmaR1)*(D2*B**2 + SigmaR2)\n",
    "k_diff = num/denom\n",
    "print k_diff\n",
    "\n",
    "FastToThermalRatio = (D2*B**2 + SigmaR2)/xs[0].sigS[1][0]\n",
    "flux_diff_1 = FastToThermalRatio*np.sin(B*xCell)\n",
    "flux_diff_2 = np.sin(B*xCell)\n",
    "print FastToThermalRatio\n",
    "plt.plot(xCell,flux_diff_1, xCell,flux_diff_2)\n",
    "plt.xlabel('z')\n",
    "plt.ylabel('Scalar flux')"
   ]
  },
  {
   "cell_type": "code",
   "execution_count": 34,
   "metadata": {
    "collapsed": false
   },
   "outputs": [
    {
     "data": {
      "text/plain": [
       "0.3209325014762895"
      ]
     },
     "execution_count": 34,
     "metadata": {},
     "output_type": "execute_result"
    }
   ],
   "source": [
    "D2"
   ]
  },
  {
   "cell_type": "code",
   "execution_count": 30,
   "metadata": {
    "collapsed": false
   },
   "outputs": [
    {
     "data": {
      "text/plain": [
       "[<matplotlib.lines.Line2D at 0x10d71bcd0>]"
      ]
     },
     "execution_count": 30,
     "metadata": {},
     "output_type": "execute_result"
    },
    {
     "data": {
      "image/png": "[encoded data removed]",
      "text/plain": [
       "<matplotlib.figure.Figure at 0x10a93e0d0>"
      ]
     },
     "metadata": {},
     "output_type": "display_data"
    }
   ],
   "source": [
    "plt.plot(flux_s6[:,0]/flux_s6[:,1])"
   ]
  },
  {
   "cell_type": "code",
   "execution_count": null,
   "metadata": {
    "collapsed": true
   },
   "outputs": [],
   "source": []
  }
 ],
 "metadata": {
  "kernelspec": {
   "display_name": "Python 2",
   "language": "python",
   "name": "python2"
  },
  "language_info": {
   "codemirror_mode": {
    "name": "ipython",
    "version": 2
   },
   "file_extension": ".py",
   "mimetype": "text/x-python",
   "name": "python",
   "nbconvert_exporter": "python",
   "pygments_lexer": "ipython2",
   "version": "2.7.11"
  }
 },
 "nbformat": 4,
 "nbformat_minor": 0
}
